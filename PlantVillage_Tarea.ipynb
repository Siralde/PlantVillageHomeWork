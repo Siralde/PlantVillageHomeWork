{
  "nbformat": 4,
  "nbformat_minor": 0,
  "metadata": {
    "colab": {
      "provenance": [],
      "toc_visible": true,
      "collapsed_sections": [
        "y9p9zhFxd-l7",
        "NBQEhIjPrHXS",
        "aHBNkR8e9-sB",
        "8W3RVRH08JK0",
        "HJAZCDpE8T0A",
        "-_1lVVBc8dcW"
      ],
      "authorship_tag": "ABX9TyOVTx4sHav/GWj9eCMZ5N2D",
      "include_colab_link": true
    },
    "kernelspec": {
      "name": "python3",
      "display_name": "Python 3"
    },
    "language_info": {
      "name": "python"
    }
  },
  "cells": [
    {
      "cell_type": "markdown",
      "metadata": {
        "id": "view-in-github",
        "colab_type": "text"
      },
      "source": [
        "<a href=\"https://colab.research.google.com/github/Siralde/PlantVillageHomeWork/blob/main/PlantVillage_Tarea.ipynb\" target=\"_parent\"><img src=\"https://colab.research.google.com/assets/colab-badge.svg\" alt=\"Open In Colab\"/></a>"
      ]
    },
    {
      "cell_type": "code",
      "execution_count": 1,
      "metadata": {
        "id": "wgL63hAvyID_",
        "colab": {
          "base_uri": "https://localhost:8080/"
        },
        "outputId": "6c17bfb3-0d23-44bb-e863-5d3486d6e833"
      },
      "outputs": [
        {
          "output_type": "stream",
          "name": "stderr",
          "text": [
            "/Users/aldemarogonzalez/anaconda3/envs/master/lib/python3.10/site-packages/tqdm/auto.py:22: TqdmWarning: IProgress not found. Please update jupyter and ipywidgets. See https://ipywidgets.readthedocs.io/en/stable/user_install.html\n",
            "  from .autonotebook import tqdm as notebook_tqdm\n"
          ]
        }
      ],
      "source": [
        "import tensorflow as tf\n",
        "import tensorflow_datasets as tfds\n",
        "from tensorflow.keras.layers import Input, Conv2D, MaxPooling2D, UpSampling2D\n",
        "from tensorflow.keras.models import Model"
      ]
    },
    {
      "cell_type": "markdown",
      "source": [
        "# Dataset Preparation"
      ],
      "metadata": {
        "id": "y9p9zhFxd-l7"
      }
    },
    {
      "cell_type": "code",
      "source": [
        "(train_data, test_data), dataset_info = tfds.load(\n",
        "    'plant_village',\n",
        "    split=['train[:60%]', 'train[60%:]'],\n",
        "    with_info=True,\n",
        "    as_supervised=True\n",
        ")"
      ],
      "metadata": {
        "id": "cNO5YanmyNb7"
      },
      "execution_count": 13,
      "outputs": []
    },
    {
      "cell_type": "code",
      "source": [
        "def preprocess(image, label):\n",
        "    image = tf.image.resize(image, (150, 150))\n",
        "    image = tf.cast(image, tf.float32) / 255.0\n",
        "    return image, label\n",
        "\n",
        "batch_size = 32\n",
        "\n",
        "train_batches = train_data.shuffle(10000).batch(batch_size).map(preprocess).prefetch(tf.data.experimental.AUTOTUNE)\n",
        "test_batches = test_data.batch(batch_size).map(preprocess)"
      ],
      "metadata": {
        "id": "nGi2Y7r9yRl9"
      },
      "execution_count": 14,
      "outputs": []
    },
    {
      "cell_type": "code",
      "source": [
        "def data_augmentation(image, label):\n",
        "    image = tf.image.random_flip_left_right(image)\n",
        "    image = tf.image.random_flip_up_down(image)\n",
        "    image = tf.image.random_brightness(image, max_delta=0.3)\n",
        "    image = tf.image.random_contrast(image, lower=0.7, upper=1.3)\n",
        "    return image, label\n",
        "\n",
        "augmented_train_batches = train_batches.map(data_augmentation)"
      ],
      "metadata": {
        "id": "laFKa98B1bHZ"
      },
      "execution_count": 15,
      "outputs": []
    },
    {
      "cell_type": "code",
      "source": [
        "# Suponiendo que train_data es tu conjunto de datos cargado:\n",
        "\n",
        "# Determinar el tamaño del dataset\n",
        "DATASET_SIZE = len(train_data)\n",
        "\n",
        "# Establecer un tamaño para la validación, por ejemplo, el 20%\n",
        "val_size = int(0.2 * DATASET_SIZE)\n",
        "train_size = DATASET_SIZE - val_size\n",
        "\n",
        "# Aleatorizar y dividir en entrenamiento y validación\n",
        "full_dataset = train_data.shuffle(buffer_size=DATASET_SIZE)\n",
        "train_dataset = full_dataset.take(train_size)\n",
        "val_dataset = full_dataset.skip(train_size)\n",
        "\n",
        "# Crear batches y aplicar preprocesamiento\n",
        "batch_size = 32\n",
        "train_batches = train_dataset.shuffle(buffer_size=train_size).batch(batch_size).map(data_augmentation).prefetch(tf.data.experimental.AUTOTUNE)\n",
        "val_batches = val_dataset.batch(batch_size).map(preprocess)"
      ],
      "metadata": {
        "id": "iRPdJURD7EQA"
      },
      "execution_count": 16,
      "outputs": []
    },
    {
      "cell_type": "code",
      "source": [
        "num_classes = dataset_info.features['label'].num_classes"
      ],
      "metadata": {
        "id": "RddCNWAz17CI"
      },
      "execution_count": 17,
      "outputs": []
    },
    {
      "cell_type": "markdown",
      "source": [
        "# Modelos Creados"
      ],
      "metadata": {
        "id": "jDSg5GGLeKhh"
      }
    },
    {
      "cell_type": "markdown",
      "source": [
        "## Secuencial"
      ],
      "metadata": {
        "id": "NBQEhIjPrHXS"
      }
    },
    {
      "cell_type": "code",
      "source": [
        "import tensorflow as tf\n",
        "import tensorflow_datasets as tfds\n",
        "from tensorflow.keras.layers import Input, Conv2D, MaxPooling2D, UpSampling2D\n",
        "from tensorflow.keras.models import Model\n",
        "\n",
        "model = tf.keras.models.Sequential([\n",
        "    # Primera capa convolucional\n",
        "    tf.keras.layers.Conv2D(32, (3,3), activation='relu', input_shape=(150, 150, 3)),\n",
        "    tf.keras.layers.MaxPooling2D(2,2),\n",
        "    # Segunda capa convolucional\n",
        "    tf.keras.layers.Conv2D(64, (3,3), activation='relu'),\n",
        "    tf.keras.layers.MaxPooling2D(2,2),\n",
        "    # Tercera capa convolucional\n",
        "    tf.keras.layers.Conv2D(128, (3,3), activation='relu'),\n",
        "    tf.keras.layers.MaxPooling2D(2,2),\n",
        "    # Aplanamiento\n",
        "    tf.keras.layers.Flatten(),\n",
        "    # Capa densa\n",
        "    tf.keras.layers.Dense(512, activation='relu'),\n",
        "    # Capa de salida\n",
        "    tf.keras.layers.Dense(num_classes, activation='softmax')\n",
        "])\n",
        "\n",
        "model.compile(optimizer='adam', loss='sparse_categorical_crossentropy', metrics=['accuracy'])\n",
        "\n",
        "history = model.fit(augmented_train_batches, validation_data=test_batches, epochs=10)"
      ],
      "metadata": {
        "colab": {
          "base_uri": "https://localhost:8080/"
        },
        "id": "WU8bz7nE2GGO",
        "outputId": "14468459-46cc-4382-af40-7bca1934cbf1"
      },
      "execution_count": null,
      "outputs": [
        {
          "output_type": "stream",
          "name": "stdout",
          "text": [
            "Epoch 1/10\n",
            "1019/1019 [==============================] - 717s 700ms/step - loss: 1.4813 - accuracy: 0.5827 - val_loss: 0.7220 - val_accuracy: 0.7704\n",
            "Epoch 2/10\n",
            "1019/1019 [==============================] - 854s 835ms/step - loss: 0.5931 - accuracy: 0.8153 - val_loss: 0.4604 - val_accuracy: 0.8524\n",
            "Epoch 3/10\n",
            "1019/1019 [==============================] - 677s 661ms/step - loss: 0.3875 - accuracy: 0.8765 - val_loss: 0.4322 - val_accuracy: 0.8601\n",
            "Epoch 4/10\n",
            "1019/1019 [==============================] - 674s 659ms/step - loss: 0.2891 - accuracy: 0.9050 - val_loss: 0.2704 - val_accuracy: 0.9123\n",
            "Epoch 5/10\n",
            "1019/1019 [==============================] - 685s 671ms/step - loss: 0.2385 - accuracy: 0.9210 - val_loss: 0.3270 - val_accuracy: 0.8937\n",
            "Epoch 6/10\n",
            "1019/1019 [==============================] - 693s 678ms/step - loss: 0.2052 - accuracy: 0.9344 - val_loss: 0.2524 - val_accuracy: 0.9196\n",
            "Epoch 7/10\n",
            "1019/1019 [==============================] - 690s 675ms/step - loss: 0.1848 - accuracy: 0.9381 - val_loss: 0.2156 - val_accuracy: 0.9315\n",
            "Epoch 8/10\n",
            "1019/1019 [==============================] - 692s 677ms/step - loss: 0.1703 - accuracy: 0.9463 - val_loss: 0.1808 - val_accuracy: 0.9394\n",
            "Epoch 9/10\n",
            "1019/1019 [==============================] - 686s 671ms/step - loss: 0.1359 - accuracy: 0.9562 - val_loss: 0.2019 - val_accuracy: 0.9353\n",
            "Epoch 10/10\n",
            "1019/1019 [==============================] - 690s 675ms/step - loss: 0.1337 - accuracy: 0.9580 - val_loss: 0.2687 - val_accuracy: 0.9214\n"
          ]
        }
      ]
    },
    {
      "cell_type": "markdown",
      "source": [
        "## Autoencoders"
      ],
      "metadata": {
        "id": "aHBNkR8e9-sB"
      }
    },
    {
      "cell_type": "code",
      "source": [
        "input_img = Input(shape=(150, 150, 3))  # Forma de las imágenes del dataset PlantVillage\n",
        "\n",
        "# Encoder\n",
        "x = Conv2D(32, (3, 3), activation='relu', padding='same')(input_img)\n",
        "x = MaxPooling2D((2, 2), padding='same')(x)\n",
        "x = Conv2D(64, (3, 3), activation='relu', padding='same')(x)\n",
        "x = MaxPooling2D((2, 2), padding='same')(x)\n",
        "\n",
        "# Decoder\n",
        "x = Conv2D(64, (3, 3), activation='relu', padding='same')(x)\n",
        "x = UpSampling2D((2, 2))(x)\n",
        "x = Conv2D(32, (3, 3), activation='relu', padding='same')(x)\n",
        "x = UpSampling2D((2, 2))(x)\n",
        "decoded = Conv2D(3, (3, 3), activation='sigmoid', padding='same')(x)\n",
        "\n",
        "autoencoder = Model(input_img, decoded)\n",
        "autoencoder.compile(optimizer='adam', loss='binary_crossentropy')\n",
        "\n",
        "\n",
        "#train_batches_autoencoders = train_batches.map(lambda x: (x, x))\n",
        "\n",
        "\n",
        "# Suponiendo que 'train_batches' y 'val_batches' ya están definidos como antes.\n",
        "history_autoencoder = autoencoder.fit(train_batches,\n",
        "                                      epochs=10,\n",
        "                                      validation_data=(val_batches, val_batches))\n"
      ],
      "metadata": {
        "id": "jjRWc8Ai9-Q4"
      },
      "execution_count": null,
      "outputs": []
    },
    {
      "cell_type": "markdown",
      "source": [
        "# Modelos Preentrenados"
      ],
      "metadata": {
        "id": "YdQMV2Vd93L8"
      }
    },
    {
      "cell_type": "markdown",
      "source": [
        "## VGG16"
      ],
      "metadata": {
        "id": "8W3RVRH08JK0"
      }
    },
    {
      "cell_type": "code",
      "source": [
        "from tensorflow.keras.applications import VGG16\n",
        "\n",
        "vgg16_model = VGG16(include_top=False, weights='imagenet', input_shape=(150,150,3))\n",
        "for layer in vgg16_model.layers:\n",
        "    layer.trainable = False  # Congelamos las capas para conservar las características aprendidas previamente\n",
        "\n",
        "vgg16_model_personalizado = tf.keras.models.Sequential([\n",
        "    vgg16_model,\n",
        "    tf.keras.layers.Flatten(),\n",
        "    tf.keras.layers.Dense(512, activation='relu'),\n",
        "    tf.keras.layers.Dropout(0.5),\n",
        "    tf.keras.layers.Dense(num_classes, activation='softmax')\n",
        "])\n",
        "\n",
        "vgg16_model_personalizado.compile(loss='sparse_categorical_crossentropy', optimizer='adam', metrics=['accuracy'])\n",
        "\n",
        "history_vgg16 = vgg16_model_personalizado.fit(train_batches,\n",
        "                                epochs=10,\n",
        "                                validation_data=val_batches)\n",
        "\n"
      ],
      "metadata": {
        "id": "Itxi5LrB3O_-",
        "colab": {
          "base_uri": "https://localhost:8080/"
        },
        "outputId": "a864ec01-6d8c-4050-a300-e9aeab6b681e"
      },
      "execution_count": 12,
      "outputs": [
        {
          "output_type": "stream",
          "name": "stdout",
          "text": [
            "Epoch 1/10\n",
            "1019/1019 [==============================] - ETA: 0s - loss: 0.9701 - accuracy: 0.7076"
          ]
        },
        {
          "output_type": "stream",
          "name": "stderr",
          "text": [
            "2023-09-07 10:02:43.087807: I tensorflow/core/kernels/data/shuffle_dataset_op.cc:422] Filling up shuffle buffer (this may take a while): 23110 of 32582\n",
            "2023-09-07 10:02:47.077352: I tensorflow/core/kernels/data/shuffle_dataset_op.cc:450] Shuffle buffer filled.\n"
          ]
        },
        {
          "output_type": "stream",
          "name": "stdout",
          "text": [
            "\b\b\b\b\b\b\b\b\b\b\b\b\b\b\b\b\b\b\b\b\b\b\b\b\b\b\b\b\b\b\b\b\b\b\b\b\b\b\b\b\b\b\b\b\b\b\b\b\b\b\b\b\b\b\b\b\b\b\b\b\b\b\b\b\b\b\b\b\b\b\b\b\b\b\b\b\b\b\b\b\b\b\b\b\b\b\r1019/1019 [==============================] - 7998s 8s/step - loss: 0.9701 - accuracy: 0.7076 - val_loss: 0.3520 - val_accuracy: 0.8967\n",
            "Epoch 2/10\n",
            "1019/1019 [==============================] - ETA: 0s - loss: 0.5421 - accuracy: 0.8226"
          ]
        },
        {
          "output_type": "stream",
          "name": "stderr",
          "text": [
            "2023-09-07 12:14:54.582069: I tensorflow/core/kernels/data/shuffle_dataset_op.cc:422] Filling up shuffle buffer (this may take a while): 20031 of 32582\n",
            "2023-09-07 12:15:01.330743: I tensorflow/core/kernels/data/shuffle_dataset_op.cc:450] Shuffle buffer filled.\n"
          ]
        },
        {
          "output_type": "stream",
          "name": "stdout",
          "text": [
            "\b\b\b\b\b\b\b\b\b\b\b\b\b\b\b\b\b\b\b\b\b\b\b\b\b\b\b\b\b\b\b\b\b\b\b\b\b\b\b\b\b\b\b\b\b\b\b\b\b\b\b\b\b\b\b\b\b\b\b\b\b\b\b\b\b\b\b\b\b\b\b\b\b\b\b\b\b\b\b\b\b\b\b\b\b\b\r1019/1019 [==============================] - 7908s 8s/step - loss: 0.5421 - accuracy: 0.8226 - val_loss: 0.2339 - val_accuracy: 0.9262\n",
            "Epoch 3/10\n",
            "1019/1019 [==============================] - ETA: 0s - loss: 0.4574 - accuracy: 0.8485"
          ]
        },
        {
          "output_type": "stream",
          "name": "stderr",
          "text": [
            "2023-09-07 14:25:03.688450: I tensorflow/core/kernels/data/shuffle_dataset_op.cc:422] Filling up shuffle buffer (this may take a while): 24218 of 32582\n",
            "2023-09-07 14:25:07.574573: I tensorflow/core/kernels/data/shuffle_dataset_op.cc:450] Shuffle buffer filled.\n"
          ]
        },
        {
          "output_type": "stream",
          "name": "stdout",
          "text": [
            "\b\b\b\b\b\b\b\b\b\b\b\b\b\b\b\b\b\b\b\b\b\b\b\b\b\b\b\b\b\b\b\b\b\b\b\b\b\b\b\b\b\b\b\b\b\b\b\b\b\b\b\b\b\b\b\b\b\b\b\b\b\b\b\b\b\b\b\b\b\b\b\b\b\b\b\b\b\b\b\b\b\b\b\b\b\b\r1019/1019 [==============================] - 7788s 8s/step - loss: 0.4574 - accuracy: 0.8485 - val_loss: 0.2123 - val_accuracy: 0.9328\n",
            "Epoch 4/10\n",
            "1019/1019 [==============================] - ETA: 0s - loss: 0.4061 - accuracy: 0.8631"
          ]
        },
        {
          "output_type": "stream",
          "name": "stderr",
          "text": [
            "2023-09-07 16:33:23.772018: I tensorflow/core/kernels/data/shuffle_dataset_op.cc:422] Filling up shuffle buffer (this may take a while): 24018 of 32582\n",
            "2023-09-07 16:33:27.641547: I tensorflow/core/kernels/data/shuffle_dataset_op.cc:450] Shuffle buffer filled.\n"
          ]
        },
        {
          "output_type": "stream",
          "name": "stdout",
          "text": [
            "\b\b\b\b\b\b\b\b\b\b\b\b\b\b\b\b\b\b\b\b\b\b\b\b\b\b\b\b\b\b\b\b\b\b\b\b\b\b\b\b\b\b\b\b\b\b\b\b\b\b\b\b\b\b\b\b\b\b\b\b\b\b\b\b\b\b\b\b\b\b\b\b\b\b\b\b\b\b\b\b\b\b\b\b\b\b\r1019/1019 [==============================] - 7706s 8s/step - loss: 0.4061 - accuracy: 0.8631 - val_loss: 0.1667 - val_accuracy: 0.9471\n",
            "Epoch 5/10\n",
            "1019/1019 [==============================] - ETA: 0s - loss: 0.3684 - accuracy: 0.8746"
          ]
        },
        {
          "output_type": "stream",
          "name": "stderr",
          "text": [
            "2023-09-07 18:42:51.495133: I tensorflow/core/kernels/data/shuffle_dataset_op.cc:422] Filling up shuffle buffer (this may take a while): 25493 of 32582\n",
            "2023-09-07 18:42:54.962453: I tensorflow/core/kernels/data/shuffle_dataset_op.cc:450] Shuffle buffer filled.\n"
          ]
        },
        {
          "output_type": "stream",
          "name": "stdout",
          "text": [
            "\b\b\b\b\b\b\b\b\b\b\b\b\b\b\b\b\b\b\b\b\b\b\b\b\b\b\b\b\b\b\b\b\b\b\b\b\b\b\b\b\b\b\b\b\b\b\b\b\b\b\b\b\b\b\b\b\b\b\b\b\b\b\b\b\b\b\b\b\b\b\b\b\b\b\b\b\b\b\b\b\b\b\b\b\b\b\r1019/1019 [==============================] - 7746s 8s/step - loss: 0.3684 - accuracy: 0.8746 - val_loss: 0.1566 - val_accuracy: 0.9503\n",
            "Epoch 6/10\n",
            "1019/1019 [==============================] - ETA: 0s - loss: 0.3405 - accuracy: 0.8838"
          ]
        },
        {
          "output_type": "stream",
          "name": "stderr",
          "text": [
            "2023-09-07 20:53:08.928599: I tensorflow/core/kernels/data/shuffle_dataset_op.cc:422] Filling up shuffle buffer (this may take a while): 22565 of 32582\n",
            "2023-09-07 20:53:13.457681: I tensorflow/core/kernels/data/shuffle_dataset_op.cc:450] Shuffle buffer filled.\n"
          ]
        },
        {
          "output_type": "stream",
          "name": "stdout",
          "text": [
            "\b\b\b\b\b\b\b\b\b\b\b\b\b\b\b\b\b\b\b\b\b\b\b\b\b\b\b\b\b\b\b\b\b\b\b\b\b\b\b\b\b\b\b\b\b\b\b\b\b\b\b\b\b\b\b\b\b\b\b\b\b\b\b\b\b\b\b\b\b\b\b\b\b\b\b\b\b\b\b\b\b\b\b\b\b\b\r1019/1019 [==============================] - 7897s 8s/step - loss: 0.3405 - accuracy: 0.8838 - val_loss: 0.1250 - val_accuracy: 0.9596\n",
            "Epoch 7/10\n",
            "1019/1019 [==============================] - ETA: 0s - loss: 0.3161 - accuracy: 0.8917"
          ]
        },
        {
          "output_type": "stream",
          "name": "stderr",
          "text": [
            "2023-09-07 23:09:04.027926: I tensorflow/core/kernels/data/shuffle_dataset_op.cc:422] Filling up shuffle buffer (this may take a while): 22187 of 32582\n",
            "2023-09-07 23:09:08.939744: I tensorflow/core/kernels/data/shuffle_dataset_op.cc:450] Shuffle buffer filled.\n"
          ]
        },
        {
          "output_type": "stream",
          "name": "stdout",
          "text": [
            "\b\b\b\b\b\b\b\b\b\b\b\b\b\b\b\b\b\b\b\b\b\b\b\b\b\b\b\b\b\b\b\b\b\b\b\b\b\b\b\b\b\b\b\b\b\b\b\b\b\b\b\b\b\b\b\b\b\b\b\b\b\b\b\b\b\b\b\b\b\b\b\b\b\b\b\b\b\b\b\b\b\b\b\b\b\b\r1019/1019 [==============================] - 8153s 8s/step - loss: 0.3161 - accuracy: 0.8917 - val_loss: 0.1168 - val_accuracy: 0.9569\n",
            "Epoch 8/10\n",
            "1019/1019 [==============================] - ETA: 0s - loss: 0.2950 - accuracy: 0.8974"
          ]
        },
        {
          "output_type": "stream",
          "name": "stderr",
          "text": [
            "2023-09-08 01:22:41.742352: I tensorflow/core/kernels/data/shuffle_dataset_op.cc:422] Filling up shuffle buffer (this may take a while): 22749 of 32582\n",
            "2023-09-08 01:22:46.320888: I tensorflow/core/kernels/data/shuffle_dataset_op.cc:450] Shuffle buffer filled.\n"
          ]
        },
        {
          "output_type": "stream",
          "name": "stdout",
          "text": [
            "\b\b\b\b\b\b\b\b\b\b\b\b\b\b\b\b\b\b\b\b\b\b\b\b\b\b\b\b\b\b\b\b\b\b\b\b\b\b\b\b\b\b\b\b\b\b\b\b\b\b\b\b\b\b\b\b\b\b\b\b\b\b\b\b\b\b\b\b\b\b\b\b\b\b\b\b\b\b\b\b\b\b\b\b\b\b\r1019/1019 [==============================] - 7997s 8s/step - loss: 0.2950 - accuracy: 0.8974 - val_loss: 0.1042 - val_accuracy: 0.9655\n",
            "Epoch 9/10\n",
            "1019/1019 [==============================] - ETA: 0s - loss: 0.2813 - accuracy: 0.9039"
          ]
        },
        {
          "output_type": "stream",
          "name": "stderr",
          "text": [
            "2023-09-08 03:34:59.131581: I tensorflow/core/kernels/data/shuffle_dataset_op.cc:422] Filling up shuffle buffer (this may take a while): 23962 of 32582\n",
            "2023-09-08 03:35:02.868623: I tensorflow/core/kernels/data/shuffle_dataset_op.cc:450] Shuffle buffer filled.\n"
          ]
        },
        {
          "output_type": "stream",
          "name": "stdout",
          "text": [
            "\b\b\b\b\b\b\b\b\b\b\b\b\b\b\b\b\b\b\b\b\b\b\b\b\b\b\b\b\b\b\b\b\b\b\b\b\b\b\b\b\b\b\b\b\b\b\b\b\b\b\b\b\b\b\b\b\b\b\b\b\b\b\b\b\b\b\b\b\b\b\b\b\b\b\b\b\b\b\b\b\b\b\b\b\b\b\r1019/1019 [==============================] - 7733s 8s/step - loss: 0.2813 - accuracy: 0.9039 - val_loss: 0.0857 - val_accuracy: 0.9696\n",
            "Epoch 10/10\n",
            "1019/1019 [==============================] - 3966s 4s/step - loss: 0.2648 - accuracy: 0.9082 - val_loss: 0.0918 - val_accuracy: 0.9676\n"
          ]
        }
      ]
    },
    {
      "cell_type": "code",
      "source": [
        "print(history['epoch'])"
      ],
      "metadata": {
        "colab": {
          "base_uri": "https://localhost:8080/"
        },
        "id": "kRAqRtPjRcl9",
        "outputId": "2062bb77-0213-47a0-d514-7db753768ecb"
      },
      "execution_count": 33,
      "outputs": [
        {
          "output_type": "stream",
          "name": "stdout",
          "text": [
            "[1, 2, 3, 4, 5, 6, 7, 8, 9, 10]\n"
          ]
        }
      ]
    },
    {
      "cell_type": "markdown",
      "source": [
        "## Rest Net"
      ],
      "metadata": {
        "id": "HJAZCDpE8T0A"
      }
    },
    {
      "cell_type": "code",
      "source": [
        "from tensorflow.keras.applications import ResNet50\n",
        "\n",
        "resnet50 = ResNet50(include_top=False, weights='imagenet', input_shape=(150, 150, 3))\n",
        "\n",
        "for layer in resnet50.layers:\n",
        "    layer.trainable = False\n",
        "\n",
        "resnet_model = Sequential([\n",
        "    resnet50,\n",
        "    tf.keras.layers.Flatten(),\n",
        "    tf.keras.layers.Dense(512, activation='relu'),\n",
        "    tf.keras.layers.Dense(num_classes, activation='softmax')\n",
        "])\n",
        "\n",
        "resnet_model.compile(optimizer='adam',\n",
        "                     loss='sparse_categorical_crossentropy',\n",
        "                     metrics=['accuracy'])\n",
        "\n",
        "history_resnet = resnet_model.fit(train_batches,\n",
        "                                  epochs=10,\n",
        "                                  validation_data=val_batches)"
      ],
      "metadata": {
        "id": "p6MigQYu8TX5"
      },
      "execution_count": null,
      "outputs": []
    },
    {
      "cell_type": "markdown",
      "source": [
        "# Conclusiones\n",
        "## Graficas Comparativas"
      ],
      "metadata": {
        "id": "-_1lVVBc8dcW"
      }
    },
    {
      "cell_type": "code",
      "source": [
        "import matplotlib.pyplot as plt\n",
        "\n",
        "epochs = range(1, 11)"
      ],
      "metadata": {
        "id": "DQtfGHlR82RP"
      },
      "execution_count": 38,
      "outputs": []
    },
    {
      "cell_type": "code",
      "source": [
        "plt.figure(figsize=(14, 5))\n",
        "\n",
        "# Comparación de Precisión\n",
        "plt.subplot(1, 2, 1)\n",
        "plt.plot(epochs, history['val_accuracy'], label='Modelo Original')\n",
        "#plt.plot(epochs, history_autoencoder['val_accuracy'], label='Autoencoders')\n",
        "plt.plot(epochs, history_vgg16.history['val_accuracy'], label='VGG16')\n",
        "#plt.plot(epochs, history_resnet.history['val_accuracy'], label='ResNet50')\n",
        "plt.title('Validation Accuracy Comparison')\n",
        "plt.xlabel('Epochs')\n",
        "plt.ylabel('Accuracy')\n",
        "plt.legend()\n",
        "\n",
        "# Comparación de Pérdida\n",
        "plt.subplot(1, 2, 2)\n",
        "plt.plot(epochs, history['val_loss'], label='Modelo Original')\n",
        "#plt.plot(epochs, history_autoencoder['val_loss'], label='Autoencoders')\n",
        "plt.plot(epochs, history_vgg16.history['val_loss'], label='VGG16')\n",
        "#plt.plot(epochs, history_resnet.history['val_loss'], label='ResNet50')\n",
        "plt.title('Validation Loss Comparison')\n",
        "plt.xlabel('Epochs')\n",
        "plt.ylabel('Loss')\n",
        "plt.legend()\n",
        "\n",
        "plt.tight_layout()\n",
        "plt.show()"
      ],
      "metadata": {
        "id": "aaHnA6pB88r6",
        "colab": {
          "base_uri": "https://localhost:8080/",
          "height": 360
        },
        "outputId": "dffe2ee1-5018-436c-fe52-395dc4d69c40"
      },
      "execution_count": 40,
      "outputs": [
        {
          "output_type": "display_data",
          "data": {
            "text/plain": [
              "<Figure size 1400x500 with 2 Axes>"
            ],
            "image/png": "[encoded data removed]"
          },
          "metadata": {}
        }
      ]
    }
  ]
}