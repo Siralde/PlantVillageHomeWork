{
  "nbformat": 4,
  "nbformat_minor": 0,
  "metadata": {
    "colab": {
      "provenance": [],
      "authorship_tag": "ABX9TyP0YKxOp9qwCz+b3EfEnZiH",
      "include_colab_link": true
    },
    "kernelspec": {
      "name": "python3",
      "display_name": "Python 3"
    },
    "language_info": {
      "name": "python"
    }
  },
  "cells": [
    {
      "cell_type": "markdown",
      "metadata": {
        "id": "view-in-github",
        "colab_type": "text"
      },
      "source": [
        "<a href=\"https://colab.research.google.com/github/Siralde/PlantVillageHomeWork/blob/main/PlantVillage_Tarea.ipynb\" target=\"_parent\"><img src=\"https://colab.research.google.com/assets/colab-badge.svg\" alt=\"Open In Colab\"/></a>"
      ]
    },
    {
      "cell_type": "code",
      "execution_count": 1,
      "metadata": {
        "id": "wgL63hAvyID_"
      },
      "outputs": [],
      "source": [
        "import tensorflow as tf\n",
        "import tensorflow_datasets as tfds"
      ]
    },
    {
      "cell_type": "code",
      "source": [
        "(train_data, test_data), dataset_info = tfds.load(\n",
        "    'plant_village',\n",
        "    split=['train[:60%]', 'train[60%:]'],\n",
        "    with_info=True,\n",
        "    as_supervised=True\n",
        ")"
      ],
      "metadata": {
        "id": "cNO5YanmyNb7"
      },
      "execution_count": 3,
      "outputs": []
    },
    {
      "cell_type": "code",
      "source": [
        "def preprocess(image, label):\n",
        "    image = tf.image.resize(image, (150, 150))\n",
        "    image = tf.cast(image, tf.float32) / 255.0  # Normalización\n",
        "    return image, label\n",
        "\n",
        "batch_size = 32\n",
        "\n",
        "train_batches = train_data.shuffle(10000).batch(batch_size).map(preprocess).prefetch(tf.data.experimental.AUTOTUNE)\n",
        "test_batches = test_data.batch(batch_size).map(preprocess)"
      ],
      "metadata": {
        "id": "nGi2Y7r9yRl9"
      },
      "execution_count": 4,
      "outputs": []
    },
    {
      "cell_type": "code",
      "source": [
        "def data_augmentation(image, label):\n",
        "    image = tf.image.random_flip_left_right(image)\n",
        "    image = tf.image.random_flip_up_down(image)\n",
        "    image = tf.image.random_brightness(image, max_delta=0.3)\n",
        "    image = tf.image.random_contrast(image, lower=0.7, upper=1.3)\n",
        "    return image, label\n",
        "\n",
        "augmented_train_batches = train_batches.map(data_augmentation)"
      ],
      "metadata": {
        "id": "laFKa98B1bHZ"
      },
      "execution_count": 5,
      "outputs": []
    },
    {
      "cell_type": "code",
      "source": [
        "num_classes = dataset_info.features['label'].num_classes"
      ],
      "metadata": {
        "id": "RddCNWAz17CI"
      },
      "execution_count": 6,
      "outputs": []
    },
    {
      "cell_type": "code",
      "source": [
        "print(f'Número de clases: {num_classes}')"
      ],
      "metadata": {
        "colab": {
          "base_uri": "https://localhost:8080/"
        },
        "id": "C4472i-S18rm",
        "outputId": "37c4dd07-8ac7-4acc-b50d-c8f861188495"
      },
      "execution_count": 7,
      "outputs": [
        {
          "output_type": "stream",
          "name": "stdout",
          "text": [
            "Número de clases: 38\n"
          ]
        }
      ]
    },
    {
      "cell_type": "code",
      "source": [
        "model = tf.keras.models.Sequential([\n",
        "    # Primera capa convolucional\n",
        "    tf.keras.layers.Conv2D(32, (3,3), activation='relu', input_shape=(150, 150, 3)),\n",
        "    tf.keras.layers.MaxPooling2D(2,2),\n",
        "    # Segunda capa convolucional\n",
        "    tf.keras.layers.Conv2D(64, (3,3), activation='relu'),\n",
        "    tf.keras.layers.MaxPooling2D(2,2),\n",
        "    # Tercera capa convolucional\n",
        "    tf.keras.layers.Conv2D(128, (3,3), activation='relu'),\n",
        "    tf.keras.layers.MaxPooling2D(2,2),\n",
        "    # Aplanamiento\n",
        "    tf.keras.layers.Flatten(),\n",
        "    # Capa densa\n",
        "    tf.keras.layers.Dense(512, activation='relu'),\n",
        "    # Capa de salida\n",
        "    tf.keras.layers.Dense(num_classes, activation='softmax')\n",
        "])\n",
        "\n",
        "model.compile(optimizer='adam', loss='sparse_categorical_crossentropy', metrics=['accuracy'])\n",
        "\n",
        "history = model.fit(augmented_train_batches, validation_data=test_batches, epochs=10)"
      ],
      "metadata": {
        "colab": {
          "base_uri": "https://localhost:8080/"
        },
        "id": "WU8bz7nE2GGO",
        "outputId": "56f5bdff-fa20-439a-aae0-03941f538f80"
      },
      "execution_count": null,
      "outputs": [
        {
          "output_type": "stream",
          "name": "stdout",
          "text": [
            "Epoch 1/10\n",
            " 593/1019 [================>.............] - ETA: 13:56 - loss: 1.7166 - accuracy: 0.5200"
          ]
        }
      ]
    },
    {
      "cell_type": "code",
      "source": [],
      "metadata": {
        "id": "Itxi5LrB3O_-"
      },
      "execution_count": null,
      "outputs": []
    }
  ]
}